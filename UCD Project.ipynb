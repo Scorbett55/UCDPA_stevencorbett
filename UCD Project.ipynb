{
 "cells": [
  {
   "cell_type": "code",
   "execution_count": 1,
   "id": "2608ba3e-e070-428f-a9a3-443608359cee",
   "metadata": {},
   "outputs": [
    {
     "name": "stdout",
     "output_type": "stream",
     "text": [
      "Requirement already satisfied: pandas in c:\\users\\scorbett\\anaconda3\\lib\\site-packages (1.4.2)\n",
      "Requirement already satisfied: pytz>=2020.1 in c:\\users\\scorbett\\anaconda3\\lib\\site-packages (from pandas) (2021.3)\n",
      "Requirement already satisfied: numpy>=1.18.5 in c:\\users\\scorbett\\anaconda3\\lib\\site-packages (from pandas) (1.21.5)\n",
      "Requirement already satisfied: python-dateutil>=2.8.1 in c:\\users\\scorbett\\anaconda3\\lib\\site-packages (from pandas) (2.8.2)\n",
      "Requirement already satisfied: six>=1.5 in c:\\users\\scorbett\\anaconda3\\lib\\site-packages (from python-dateutil>=2.8.1->pandas) (1.16.0)\n",
      "Note: you may need to restart the kernel to use updated packages.\n"
     ]
    }
   ],
   "source": [
    "pip install pandas"
   ]
  },
  {
   "cell_type": "code",
   "execution_count": 5,
   "id": "fb608650-79cb-4bdd-bdc7-19667e24094c",
   "metadata": {},
   "outputs": [],
   "source": [
    "import pandas as pd\n",
    "import numpy as np"
   ]
  },
  {
   "cell_type": "code",
   "execution_count": 106,
   "id": "2c60a57c-b92e-462e-91e4-9e1a0e290006",
   "metadata": {},
   "outputs": [
    {
     "name": "stdout",
     "output_type": "stream",
     "text": [
      "    id  Marathon              Name Category  km4week    sp4week CrossTraining  \\\n",
      "0    1  Prague17      Blair MORGAN      MAM    132.8  14.434783           NaN   \n",
      "1    2  Prague17     Robert Heczko      MAM     68.6  13.674419           NaN   \n",
      "2    3  Prague17     Michon Jerome      MAM     82.7  13.520436           NaN   \n",
      "3    4  Prague17     Daniel Or lek      M45    137.5  12.258544           NaN   \n",
      "4    5  Prague17      Luk ? Mr zek      MAM     84.6  13.945055           NaN   \n",
      "..  ..       ...               ...      ...      ...        ...           ...   \n",
      "82  83  Prague17  Stefano Vegliani      M55     50.0  10.830325           NaN   \n",
      "83  84  Prague17    Andrej Madliak      M40     33.6  10.130653   ciclista 3h   \n",
      "84  85  Prague17        Yoi Ohsako      M40     55.4  11.043189           NaN   \n",
      "85  86  Prague17        Simon Dunn      M45     33.2  11.066667           NaN   \n",
      "86  87  Prague17       Pavel ?imek      M40     17.9  10.848485   ciclista 5h   \n",
      "\n",
      "   Wall21  MarathonTime CATEGORY  \n",
      "0    1.16          2.37        A  \n",
      "1    1.23          2.59        A  \n",
      "2    1.30          2.66        A  \n",
      "3    1.32          2.68        A  \n",
      "4    1.36          2.74        A  \n",
      "..    ...           ...      ...  \n",
      "82   2.02          3.93        D  \n",
      "83   1.94          3.93        D  \n",
      "84   1.94          3.94        D  \n",
      "85   2.05          3.95        D  \n",
      "86   2.05          3.98        D  \n",
      "\n",
      "[87 rows x 10 columns]\n"
     ]
    }
   ],
   "source": [
    "data=pd.read_csv('MarathonData.csv')\n",
    "print(data)"
   ]
  },
  {
   "cell_type": "code",
   "execution_count": 107,
   "id": "92ea1704-4281-4e68-afe5-b946224280bb",
   "metadata": {},
   "outputs": [
    {
     "name": "stdout",
     "output_type": "stream",
     "text": [
      "   id  Marathon           Name Category  km4week    sp4week CrossTraining  \\\n",
      "0   1  Prague17   Blair MORGAN      MAM    132.8  14.434783           NaN   \n",
      "1   2  Prague17  Robert Heczko      MAM     68.6  13.674419           NaN   \n",
      "2   3  Prague17  Michon Jerome      MAM     82.7  13.520436           NaN   \n",
      "3   4  Prague17  Daniel Or lek      M45    137.5  12.258544           NaN   \n",
      "4   5  Prague17   Luk ? Mr zek      MAM     84.6  13.945055           NaN   \n",
      "\n",
      "  Wall21  MarathonTime CATEGORY  \n",
      "0   1.16          2.37        A  \n",
      "1   1.23          2.59        A  \n",
      "2   1.30          2.66        A  \n",
      "3   1.32          2.68        A  \n",
      "4   1.36          2.74        A  \n"
     ]
    }
   ],
   "source": [
    "print(data.head())"
   ]
  },
  {
   "cell_type": "code",
   "execution_count": 108,
   "id": "9332be3c-565b-48c6-a783-8871b3c30e82",
   "metadata": {},
   "outputs": [
    {
     "name": "stdout",
     "output_type": "stream",
     "text": [
      "(87, 10)\n"
     ]
    }
   ],
   "source": [
    "print(data.shape)"
   ]
  },
  {
   "cell_type": "code",
   "execution_count": 109,
   "id": "026638cf-ed36-430f-9afb-a50b328c4bc9",
   "metadata": {},
   "outputs": [],
   "source": [
    "missing_values_count=data.isnull().sum()"
   ]
  },
  {
   "cell_type": "code",
   "execution_count": 110,
   "id": "0ce2386c-c5bc-44d6-aa47-b9df0925663f",
   "metadata": {},
   "outputs": [
    {
     "name": "stdout",
     "output_type": "stream",
     "text": [
      "id                0\n",
      "Marathon          0\n",
      "Name              0\n",
      "Category          6\n",
      "km4week           0\n",
      "sp4week           0\n",
      "CrossTraining    74\n",
      "Wall21            0\n",
      "MarathonTime      0\n",
      "CATEGORY          0\n",
      "dtype: int64\n"
     ]
    }
   ],
   "source": [
    "print(missing_values_count[0:])"
   ]
  },
  {
   "cell_type": "code",
   "execution_count": 111,
   "id": "4bc1a4f7-1cb4-4da9-9d63-141f83cc27c0",
   "metadata": {},
   "outputs": [
    {
     "data": {
      "text/plain": [
       "array([nan, 'ciclista 1h', 'ciclista 4h', 'ciclista 13h', 'ciclista 5h',\n",
       "       'ciclista 3h'], dtype=object)"
      ]
     },
     "execution_count": 111,
     "metadata": {},
     "output_type": "execute_result"
    }
   ],
   "source": [
    "data['CrossTraining'].unique()"
   ]
  },
  {
   "cell_type": "code",
   "execution_count": 157,
   "id": "1d3fed4e-7c31-415c-ac20-a8145513faf5",
   "metadata": {},
   "outputs": [
    {
     "data": {
      "text/plain": [
       "id               0\n",
       "Marathon         0\n",
       "Name             0\n",
       "Category         6\n",
       "km4week          0\n",
       "sp4week          0\n",
       "CrossTraining    0\n",
       "Wall21           0\n",
       "MarathonTime     0\n",
       "CATEGORY         0\n",
       "dtype: int64"
      ]
     },
     "execution_count": 157,
     "metadata": {},
     "output_type": "execute_result"
    }
   ],
   "source": [
    "data['CrossTraining'].fillna('nocross',inplace=True)\n",
    "data.isna().sum()"
   ]
  },
  {
   "cell_type": "code",
   "execution_count": 158,
   "id": "d93ebfa6-82ff-495f-9737-0761b626e18e",
   "metadata": {},
   "outputs": [
    {
     "name": "stdout",
     "output_type": "stream",
     "text": [
      "(87, 10) (87, 10)\n"
     ]
    }
   ],
   "source": [
    "drop_duplicates=data.drop_duplicates()\n",
    "print(data.shape,drop_duplicates.shape)"
   ]
  },
  {
   "cell_type": "code",
   "execution_count": 162,
   "id": "a1a343ba-c55f-4dc7-98ec-8cece1184947",
   "metadata": {},
   "outputs": [
    {
     "name": "stdout",
     "output_type": "stream",
     "text": [
      "   id Marathon            Name Category  km4week  sp4week CrossTraining  \\\n",
      "0 NaN     Cork  Steven Corbett      MAM    99.91   11.384        nocros   \n",
      "\n",
      "  Wall21  MarathonTime CATEGORY  \n",
      "0      -        3.9019        D  \n"
     ]
    }
   ],
   "source": [
    "df2= pd.read_csv('Sc MarathonData.csv')\n",
    "print(df2)"
   ]
  },
  {
   "cell_type": "code",
   "execution_count": 200,
   "id": "c8385122-0b5c-4b75-8faf-53fd1169de11",
   "metadata": {},
   "outputs": [
    {
     "name": "stdout",
     "output_type": "stream",
     "text": [
      "      id  Marathon            Name Category  km4week    sp4week CrossTraining  \\\n",
      "0    1.0  Prague17    Blair MORGAN      MAM   132.80  14.434783        nocros   \n",
      "1    2.0  Prague17   Robert Heczko      MAM    68.60  13.674419        nocros   \n",
      "2    3.0  Prague17   Michon Jerome      MAM    82.70  13.520436        nocros   \n",
      "3    4.0  Prague17   Daniel Or lek      M45   137.50  12.258544        nocros   \n",
      "4    5.0  Prague17    Luk ? Mr zek      MAM    84.60  13.945055        nocros   \n",
      "..   ...       ...             ...      ...      ...        ...           ...   \n",
      "83  84.0  Prague17  Andrej Madliak      M40    33.60  10.130653   ciclista 3h   \n",
      "84  85.0  Prague17      Yoi Ohsako      M40    55.40  11.043189        nocros   \n",
      "85  86.0  Prague17      Simon Dunn      M45    33.20  11.066667        nocros   \n",
      "86  87.0  Prague17     Pavel ?imek      M40    17.90  10.848485   ciclista 5h   \n",
      "0    NaN      Cork  Steven Corbett      MAM    99.91  11.384000        nocros   \n",
      "\n",
      "   Wall21  MarathonTime CATEGORY  \n",
      "0    1.16        2.3700        A  \n",
      "1    1.23        2.5900        A  \n",
      "2    1.30        2.6600        A  \n",
      "3    1.32        2.6800        A  \n",
      "4    1.36        2.7400        A  \n",
      "..    ...           ...      ...  \n",
      "83   1.94        3.9300        D  \n",
      "84   1.94        3.9400        D  \n",
      "85   2.05        3.9500        D  \n",
      "86   2.05        3.9800        D  \n",
      "0       -        3.9019        D  \n",
      "\n",
      "[88 rows x 10 columns]\n"
     ]
    }
   ],
   "source": [
    "new_data=pd.concat([data,df2], join='inner')\n",
    "print(new_data)"
   ]
  },
  {
   "cell_type": "code",
   "execution_count": 201,
   "id": "e9d2bfbb-5d53-4ab2-904f-6d55d1fd3ccf",
   "metadata": {},
   "outputs": [
    {
     "data": {
      "text/plain": [
       "(81, 10)"
      ]
     },
     "execution_count": 201,
     "metadata": {},
     "output_type": "execute_result"
    }
   ],
   "source": [
    "new_data.dropna(how='any').shape"
   ]
  },
  {
   "cell_type": "code",
   "execution_count": 202,
   "id": "d2ebfdc1-6822-45ef-95d1-950cddaa880d",
   "metadata": {},
   "outputs": [
    {
     "data": {
      "text/html": [
       "<div>\n",
       "<style scoped>\n",
       "    .dataframe tbody tr th:only-of-type {\n",
       "        vertical-align: middle;\n",
       "    }\n",
       "\n",
       "    .dataframe tbody tr th {\n",
       "        vertical-align: top;\n",
       "    }\n",
       "\n",
       "    .dataframe thead th {\n",
       "        text-align: right;\n",
       "    }\n",
       "</style>\n",
       "<table border=\"1\" class=\"dataframe\">\n",
       "  <thead>\n",
       "    <tr style=\"text-align: right;\">\n",
       "      <th></th>\n",
       "      <th>Category</th>\n",
       "      <th>km4week</th>\n",
       "      <th>sp4week</th>\n",
       "      <th>CrossTraining</th>\n",
       "      <th>Wall21</th>\n",
       "      <th>MarathonTime</th>\n",
       "    </tr>\n",
       "  </thead>\n",
       "  <tbody>\n",
       "    <tr>\n",
       "      <th>0</th>\n",
       "      <td>MAM</td>\n",
       "      <td>132.80</td>\n",
       "      <td>14.434783</td>\n",
       "      <td>nocros</td>\n",
       "      <td>1.16</td>\n",
       "      <td>2.3700</td>\n",
       "    </tr>\n",
       "    <tr>\n",
       "      <th>1</th>\n",
       "      <td>MAM</td>\n",
       "      <td>68.60</td>\n",
       "      <td>13.674419</td>\n",
       "      <td>nocros</td>\n",
       "      <td>1.23</td>\n",
       "      <td>2.5900</td>\n",
       "    </tr>\n",
       "    <tr>\n",
       "      <th>2</th>\n",
       "      <td>MAM</td>\n",
       "      <td>82.70</td>\n",
       "      <td>13.520436</td>\n",
       "      <td>nocros</td>\n",
       "      <td>1.30</td>\n",
       "      <td>2.6600</td>\n",
       "    </tr>\n",
       "    <tr>\n",
       "      <th>3</th>\n",
       "      <td>M45</td>\n",
       "      <td>137.50</td>\n",
       "      <td>12.258544</td>\n",
       "      <td>nocros</td>\n",
       "      <td>1.32</td>\n",
       "      <td>2.6800</td>\n",
       "    </tr>\n",
       "    <tr>\n",
       "      <th>4</th>\n",
       "      <td>MAM</td>\n",
       "      <td>84.60</td>\n",
       "      <td>13.945055</td>\n",
       "      <td>nocros</td>\n",
       "      <td>1.36</td>\n",
       "      <td>2.7400</td>\n",
       "    </tr>\n",
       "    <tr>\n",
       "      <th>...</th>\n",
       "      <td>...</td>\n",
       "      <td>...</td>\n",
       "      <td>...</td>\n",
       "      <td>...</td>\n",
       "      <td>...</td>\n",
       "      <td>...</td>\n",
       "    </tr>\n",
       "    <tr>\n",
       "      <th>83</th>\n",
       "      <td>M40</td>\n",
       "      <td>33.60</td>\n",
       "      <td>10.130653</td>\n",
       "      <td>ciclista 3h</td>\n",
       "      <td>1.94</td>\n",
       "      <td>3.9300</td>\n",
       "    </tr>\n",
       "    <tr>\n",
       "      <th>84</th>\n",
       "      <td>M40</td>\n",
       "      <td>55.40</td>\n",
       "      <td>11.043189</td>\n",
       "      <td>nocros</td>\n",
       "      <td>1.94</td>\n",
       "      <td>3.9400</td>\n",
       "    </tr>\n",
       "    <tr>\n",
       "      <th>85</th>\n",
       "      <td>M45</td>\n",
       "      <td>33.20</td>\n",
       "      <td>11.066667</td>\n",
       "      <td>nocros</td>\n",
       "      <td>2.05</td>\n",
       "      <td>3.9500</td>\n",
       "    </tr>\n",
       "    <tr>\n",
       "      <th>86</th>\n",
       "      <td>M40</td>\n",
       "      <td>17.90</td>\n",
       "      <td>10.848485</td>\n",
       "      <td>ciclista 5h</td>\n",
       "      <td>2.05</td>\n",
       "      <td>3.9800</td>\n",
       "    </tr>\n",
       "    <tr>\n",
       "      <th>0</th>\n",
       "      <td>MAM</td>\n",
       "      <td>99.91</td>\n",
       "      <td>11.384000</td>\n",
       "      <td>nocros</td>\n",
       "      <td>-</td>\n",
       "      <td>3.9019</td>\n",
       "    </tr>\n",
       "  </tbody>\n",
       "</table>\n",
       "<p>88 rows × 6 columns</p>\n",
       "</div>"
      ],
      "text/plain": [
       "   Category  km4week    sp4week CrossTraining Wall21  MarathonTime\n",
       "0       MAM   132.80  14.434783        nocros   1.16        2.3700\n",
       "1       MAM    68.60  13.674419        nocros   1.23        2.5900\n",
       "2       MAM    82.70  13.520436        nocros   1.30        2.6600\n",
       "3       M45   137.50  12.258544        nocros   1.32        2.6800\n",
       "4       MAM    84.60  13.945055        nocros   1.36        2.7400\n",
       "..      ...      ...        ...           ...    ...           ...\n",
       "83      M40    33.60  10.130653   ciclista 3h   1.94        3.9300\n",
       "84      M40    55.40  11.043189        nocros   1.94        3.9400\n",
       "85      M45    33.20  11.066667        nocros   2.05        3.9500\n",
       "86      M40    17.90  10.848485   ciclista 5h   2.05        3.9800\n",
       "0       MAM    99.91  11.384000        nocros      -        3.9019\n",
       "\n",
       "[88 rows x 6 columns]"
      ]
     },
     "execution_count": 202,
     "metadata": {},
     "output_type": "execute_result"
    }
   ],
   "source": [
    "new_data.drop(columns=['id','Marathon','CATEGORY','Name'])"
   ]
  },
  {
   "cell_type": "code",
   "execution_count": 203,
   "id": "c9027d38-1291-4d22-8eb4-ffeaebe26352",
   "metadata": {},
   "outputs": [
    {
     "data": {
      "text/plain": [
       "Int64Index([ 0,  1,  2,  3,  4,  5,  6,  7,  8,  9, 10, 11, 12, 13, 14, 15, 16,\n",
       "            17, 18, 19, 20, 21, 22, 23, 24, 25, 26, 27, 28, 29, 30, 31, 32, 33,\n",
       "            34, 35, 36, 37, 38, 39, 40, 41, 42, 43, 44, 45, 46, 47, 48, 49, 50,\n",
       "            51, 52, 53, 54, 55, 56, 57, 58, 59, 60, 61, 62, 63, 64, 65, 66, 67,\n",
       "            68, 69, 70, 71, 72, 73, 74, 75, 76, 77, 78, 79, 80, 81, 82, 83, 84,\n",
       "            85, 86,  0],\n",
       "           dtype='int64')"
      ]
     },
     "execution_count": 203,
     "metadata": {},
     "output_type": "execute_result"
    }
   ],
   "source": [
    "new_data.index"
   ]
  },
  {
   "cell_type": "code",
   "execution_count": 204,
   "id": "e01527aa-73d7-4017-a6a7-be58e9ec33cc",
   "metadata": {},
   "outputs": [
    {
     "name": "stdout",
     "output_type": "stream",
     "text": [
      "<class 'pandas.core.frame.DataFrame'>\n",
      "Int64Index: 88 entries, 0 to 0\n",
      "Data columns (total 10 columns):\n",
      " #   Column         Non-Null Count  Dtype  \n",
      "---  ------         --------------  -----  \n",
      " 0   id             87 non-null     float64\n",
      " 1   Marathon       88 non-null     object \n",
      " 2   Name           88 non-null     object \n",
      " 3   Category       82 non-null     object \n",
      " 4   km4week        88 non-null     float64\n",
      " 5   sp4week        88 non-null     float64\n",
      " 6   CrossTraining  88 non-null     object \n",
      " 7   Wall21         88 non-null     object \n",
      " 8   MarathonTime   88 non-null     float64\n",
      " 9   CATEGORY       88 non-null     object \n",
      "dtypes: float64(4), object(6)\n",
      "memory usage: 7.6+ KB\n"
     ]
    }
   ],
   "source": [
    "new_data.info()"
   ]
  },
  {
   "cell_type": "code",
   "execution_count": 205,
   "id": "4406cdcb-e383-49e6-b2cd-e238d0072037",
   "metadata": {},
   "outputs": [
    {
     "name": "stdout",
     "output_type": "stream",
     "text": [
      "    id  Marathon           Name Category  km4week    sp4week CrossTraining  \\\n",
      "0  1.0  Prague17   Blair MORGAN      MAM    132.8  14.434783        nocros   \n",
      "1  2.0  Prague17  Robert Heczko      MAM     68.6  13.674419        nocros   \n",
      "2  3.0  Prague17  Michon Jerome      MAM     82.7  13.520436        nocros   \n",
      "3  4.0  Prague17  Daniel Or lek      M45    137.5  12.258544        nocros   \n",
      "4  5.0  Prague17   Luk ? Mr zek      MAM     84.6  13.945055        nocros   \n",
      "\n",
      "  Wall21  MarathonTime CATEGORY  \n",
      "0   1.16          2.37        A  \n",
      "1   1.23          2.59        A  \n",
      "2   1.30          2.66        A  \n",
      "3   1.32          2.68        A  \n",
      "4   1.36          2.74        A  \n"
     ]
    }
   ],
   "source": [
    "print(new_data.head())"
   ]
  },
  {
   "cell_type": "code",
   "execution_count": 206,
   "id": "c369fe77-bc5f-4094-8315-117a5accd1fc",
   "metadata": {},
   "outputs": [
    {
     "data": {
      "text/html": [
       "<div>\n",
       "<style scoped>\n",
       "    .dataframe tbody tr th:only-of-type {\n",
       "        vertical-align: middle;\n",
       "    }\n",
       "\n",
       "    .dataframe tbody tr th {\n",
       "        vertical-align: top;\n",
       "    }\n",
       "\n",
       "    .dataframe thead th {\n",
       "        text-align: right;\n",
       "    }\n",
       "</style>\n",
       "<table border=\"1\" class=\"dataframe\">\n",
       "  <thead>\n",
       "    <tr style=\"text-align: right;\">\n",
       "      <th></th>\n",
       "      <th>id</th>\n",
       "      <th>km4week</th>\n",
       "      <th>sp4week</th>\n",
       "      <th>MarathonTime</th>\n",
       "    </tr>\n",
       "    <tr>\n",
       "      <th>Category</th>\n",
       "      <th></th>\n",
       "      <th></th>\n",
       "      <th></th>\n",
       "      <th></th>\n",
       "    </tr>\n",
       "  </thead>\n",
       "  <tbody>\n",
       "    <tr>\n",
       "      <th>M40</th>\n",
       "      <td>45.666667</td>\n",
       "      <td>57.440000</td>\n",
       "      <td>11.955798</td>\n",
       "      <td>3.348667</td>\n",
       "    </tr>\n",
       "    <tr>\n",
       "      <th>M45</th>\n",
       "      <td>38.866667</td>\n",
       "      <td>67.126667</td>\n",
       "      <td>12.287710</td>\n",
       "      <td>3.250000</td>\n",
       "    </tr>\n",
       "    <tr>\n",
       "      <th>M50</th>\n",
       "      <td>37.000000</td>\n",
       "      <td>76.800000</td>\n",
       "      <td>12.222836</td>\n",
       "      <td>3.232500</td>\n",
       "    </tr>\n",
       "    <tr>\n",
       "      <th>M55</th>\n",
       "      <td>47.333333</td>\n",
       "      <td>73.700000</td>\n",
       "      <td>12.084603</td>\n",
       "      <td>3.373333</td>\n",
       "    </tr>\n",
       "    <tr>\n",
       "      <th>MAM</th>\n",
       "      <td>44.025000</td>\n",
       "      <td>60.441707</td>\n",
       "      <td>283.173873</td>\n",
       "      <td>3.325412</td>\n",
       "    </tr>\n",
       "    <tr>\n",
       "      <th>WAM</th>\n",
       "      <td>46.750000</td>\n",
       "      <td>74.925000</td>\n",
       "      <td>11.550603</td>\n",
       "      <td>3.347500</td>\n",
       "    </tr>\n",
       "  </tbody>\n",
       "</table>\n",
       "</div>"
      ],
      "text/plain": [
       "                 id    km4week     sp4week  MarathonTime\n",
       "Category                                                \n",
       "M40       45.666667  57.440000   11.955798      3.348667\n",
       "M45       38.866667  67.126667   12.287710      3.250000\n",
       "M50       37.000000  76.800000   12.222836      3.232500\n",
       "M55       47.333333  73.700000   12.084603      3.373333\n",
       "MAM       44.025000  60.441707  283.173873      3.325412\n",
       "WAM       46.750000  74.925000   11.550603      3.347500"
      ]
     },
     "execution_count": 206,
     "metadata": {},
     "output_type": "execute_result"
    }
   ],
   "source": [
    "new_data.groupby('Category').mean()"
   ]
  },
  {
   "cell_type": "code",
   "execution_count": 128,
   "id": "83cf02b4-1f30-4fd0-a282-d888c264c153",
   "metadata": {},
   "outputs": [],
   "source": [
    "import seaborn as sns\n",
    "import matplotlib.pyplot as plt"
   ]
  },
  {
   "cell_type": "code",
   "execution_count": 222,
   "id": "2853fd79-e451-4dd0-84b9-ea72fa91650d",
   "metadata": {},
   "outputs": [
    {
     "data": {
      "text/plain": [
       "Text(0.5, 1.0, 'Category Vs MarathonTime')"
      ]
     },
     "execution_count": 222,
     "metadata": {},
     "output_type": "execute_result"
    },
    {
     "data": {
      "image/png": "[encoded data removed]",
      "text/plain": [
       "<Figure size 432x288 with 1 Axes>"
      ]
     },
     "metadata": {
      "needs_background": "light"
     },
     "output_type": "display_data"
    }
   ],
   "source": [
    "sns.barplot(new_data['Category'],new_data['MarathonTime'])\n",
    "plt.title('Category Vs MarathonTime')\n"
   ]
  },
  {
   "cell_type": "code",
   "execution_count": 231,
   "id": "9bc096ad-c911-4c1b-bd41-0a776d2aebf4",
   "metadata": {},
   "outputs": [
    {
     "data": {
      "text/html": [
       "<div>\n",
       "<style scoped>\n",
       "    .dataframe tbody tr th:only-of-type {\n",
       "        vertical-align: middle;\n",
       "    }\n",
       "\n",
       "    .dataframe tbody tr th {\n",
       "        vertical-align: top;\n",
       "    }\n",
       "\n",
       "    .dataframe thead th {\n",
       "        text-align: right;\n",
       "    }\n",
       "</style>\n",
       "<table border=\"1\" class=\"dataframe\">\n",
       "  <thead>\n",
       "    <tr style=\"text-align: right;\">\n",
       "      <th></th>\n",
       "      <th>id</th>\n",
       "      <th>km4week</th>\n",
       "      <th>sp4week</th>\n",
       "      <th>MarathonTime</th>\n",
       "    </tr>\n",
       "    <tr>\n",
       "      <th>CrossTraining</th>\n",
       "      <th></th>\n",
       "      <th></th>\n",
       "      <th></th>\n",
       "      <th></th>\n",
       "    </tr>\n",
       "  </thead>\n",
       "  <tbody>\n",
       "    <tr>\n",
       "      <th>ciclista 13h</th>\n",
       "      <td>17.000000</td>\n",
       "      <td>112.300000</td>\n",
       "      <td>12.594393</td>\n",
       "      <td>2.910000</td>\n",
       "    </tr>\n",
       "    <tr>\n",
       "      <th>ciclista 1h</th>\n",
       "      <td>9.000000</td>\n",
       "      <td>70.000000</td>\n",
       "      <td>13.770492</td>\n",
       "      <td>2.830000</td>\n",
       "    </tr>\n",
       "    <tr>\n",
       "      <th>ciclista 3h</th>\n",
       "      <td>59.800000</td>\n",
       "      <td>37.300000</td>\n",
       "      <td>11.369874</td>\n",
       "      <td>3.554000</td>\n",
       "    </tr>\n",
       "    <tr>\n",
       "      <th>ciclista 4h</th>\n",
       "      <td>44.500000</td>\n",
       "      <td>38.700000</td>\n",
       "      <td>13.064684</td>\n",
       "      <td>3.330000</td>\n",
       "    </tr>\n",
       "    <tr>\n",
       "      <th>ciclista 5h</th>\n",
       "      <td>63.500000</td>\n",
       "      <td>25.675000</td>\n",
       "      <td>11.269528</td>\n",
       "      <td>3.612500</td>\n",
       "    </tr>\n",
       "    <tr>\n",
       "      <th>nocros</th>\n",
       "      <td>42.702703</td>\n",
       "      <td>66.336133</td>\n",
       "      <td>160.308050</td>\n",
       "      <td>3.307225</td>\n",
       "    </tr>\n",
       "  </tbody>\n",
       "</table>\n",
       "</div>"
      ],
      "text/plain": [
       "                      id     km4week     sp4week  MarathonTime\n",
       "CrossTraining                                                 \n",
       "ciclista 13h   17.000000  112.300000   12.594393      2.910000\n",
       "ciclista 1h     9.000000   70.000000   13.770492      2.830000\n",
       "ciclista 3h    59.800000   37.300000   11.369874      3.554000\n",
       "ciclista 4h    44.500000   38.700000   13.064684      3.330000\n",
       "ciclista 5h    63.500000   25.675000   11.269528      3.612500\n",
       "nocros         42.702703   66.336133  160.308050      3.307225"
      ]
     },
     "execution_count": 231,
     "metadata": {},
     "output_type": "execute_result"
    }
   ],
   "source": [
    "new_data.groupby('CrossTraining').mean()"
   ]
  },
  {
   "cell_type": "code",
   "execution_count": 316,
   "id": "a4c4e5b4-6eeb-443f-8a7a-a95f25e564ea",
   "metadata": {},
   "outputs": [
    {
     "name": "stderr",
     "output_type": "stream",
     "text": [
      "C:\\Users\\scorbett\\Anaconda3\\lib\\site-packages\\seaborn\\_decorators.py:36: FutureWarning: Pass the following variables as keyword args: x, y. From version 0.12, the only valid positional argument will be `data`, and passing other arguments without an explicit keyword will result in an error or misinterpretation.\n",
      "  warnings.warn(\n",
      "C:\\Users\\scorbett\\Anaconda3\\lib\\site-packages\\seaborn\\_decorators.py:36: FutureWarning: Pass the following variables as keyword args: x, y. From version 0.12, the only valid positional argument will be `data`, and passing other arguments without an explicit keyword will result in an error or misinterpretation.\n",
      "  warnings.warn(\n"
     ]
    },
    {
     "data": {
      "image/png": "[encoded data removed]",
      "text/plain": [
       "<Figure size 432x288 with 1 Axes>"
      ]
     },
     "metadata": {
      "needs_background": "light"
     },
     "output_type": "display_data"
    }
   ],
   "source": [
    "sns.scatterplot(new_data['CrossTraining'],new_data['MarathonTime'])\n",
    "plt.title('CrossTraining Vs MarathonTime')\n",
    "g= sns.scatterplot(new_data['CrossTraining'],new_data['MarathonTime'])\n"
   ]
  },
  {
   "cell_type": "code",
   "execution_count": 304,
   "id": "4b4027ce-2829-4ca4-a545-ad8676c16ead",
   "metadata": {},
   "outputs": [
    {
     "data": {
      "image/png": "[encoded data removed]",
      "text/plain": [
       "<Figure size 360x360 with 1 Axes>"
      ]
     },
     "metadata": {
      "needs_background": "light"
     },
     "output_type": "display_data"
    }
   ],
   "source": [
    "sns.lmplot(x='MarathonTime',y='km4week', data=new_data)\n",
    "plt.title('MarathonTime Vs km4week')\n",
    "plt.show()"
   ]
  },
  {
   "cell_type": "code",
   "execution_count": null,
   "id": "c0548e9d-73a1-4d69-b127-fa9867f8bf2d",
   "metadata": {},
   "outputs": [],
   "source": []
  },
  {
   "cell_type": "code",
   "execution_count": 305,
   "id": "542a8cfb-cbf6-48ab-ad7b-32cba0ebbb8c",
   "metadata": {},
   "outputs": [
    {
     "data": {
      "image/png": "[encoded data removed]",
      "text/plain": [
       "<Figure size 360x360 with 1 Axes>"
      ]
     },
     "metadata": {
      "needs_background": "light"
     },
     "output_type": "display_data"
    }
   ],
   "source": [
    "sns.lmplot(x='MarathonTime',y='sp4week', data=new_data)\n",
    "plt.title('MarathonTime Vs sp4week')\n",
    "plt.show()"
   ]
  },
  {
   "cell_type": "code",
   "execution_count": 246,
   "id": "ce0a7b29-c205-4b83-9d7e-0bc7371e4290",
   "metadata": {},
   "outputs": [
    {
     "data": {
      "text/html": [
       "<div>\n",
       "<style scoped>\n",
       "    .dataframe tbody tr th:only-of-type {\n",
       "        vertical-align: middle;\n",
       "    }\n",
       "\n",
       "    .dataframe tbody tr th {\n",
       "        vertical-align: top;\n",
       "    }\n",
       "\n",
       "    .dataframe thead th {\n",
       "        text-align: right;\n",
       "    }\n",
       "</style>\n",
       "<table border=\"1\" class=\"dataframe\">\n",
       "  <thead>\n",
       "    <tr style=\"text-align: right;\">\n",
       "      <th></th>\n",
       "      <th>km4week</th>\n",
       "      <th>sp4week</th>\n",
       "      <th>MarathonTime</th>\n",
       "    </tr>\n",
       "  </thead>\n",
       "  <tbody>\n",
       "    <tr>\n",
       "      <th>0</th>\n",
       "      <td>132.80</td>\n",
       "      <td>14.434783</td>\n",
       "      <td>2.3700</td>\n",
       "    </tr>\n",
       "    <tr>\n",
       "      <th>1</th>\n",
       "      <td>68.60</td>\n",
       "      <td>13.674419</td>\n",
       "      <td>2.5900</td>\n",
       "    </tr>\n",
       "    <tr>\n",
       "      <th>2</th>\n",
       "      <td>82.70</td>\n",
       "      <td>13.520436</td>\n",
       "      <td>2.6600</td>\n",
       "    </tr>\n",
       "    <tr>\n",
       "      <th>3</th>\n",
       "      <td>137.50</td>\n",
       "      <td>12.258544</td>\n",
       "      <td>2.6800</td>\n",
       "    </tr>\n",
       "    <tr>\n",
       "      <th>4</th>\n",
       "      <td>84.60</td>\n",
       "      <td>13.945055</td>\n",
       "      <td>2.7400</td>\n",
       "    </tr>\n",
       "    <tr>\n",
       "      <th>...</th>\n",
       "      <td>...</td>\n",
       "      <td>...</td>\n",
       "      <td>...</td>\n",
       "    </tr>\n",
       "    <tr>\n",
       "      <th>83</th>\n",
       "      <td>33.60</td>\n",
       "      <td>10.130653</td>\n",
       "      <td>3.9300</td>\n",
       "    </tr>\n",
       "    <tr>\n",
       "      <th>84</th>\n",
       "      <td>55.40</td>\n",
       "      <td>11.043189</td>\n",
       "      <td>3.9400</td>\n",
       "    </tr>\n",
       "    <tr>\n",
       "      <th>85</th>\n",
       "      <td>33.20</td>\n",
       "      <td>11.066667</td>\n",
       "      <td>3.9500</td>\n",
       "    </tr>\n",
       "    <tr>\n",
       "      <th>86</th>\n",
       "      <td>17.90</td>\n",
       "      <td>10.848485</td>\n",
       "      <td>3.9800</td>\n",
       "    </tr>\n",
       "    <tr>\n",
       "      <th>0</th>\n",
       "      <td>99.91</td>\n",
       "      <td>11.384000</td>\n",
       "      <td>3.9019</td>\n",
       "    </tr>\n",
       "  </tbody>\n",
       "</table>\n",
       "<p>88 rows × 3 columns</p>\n",
       "</div>"
      ],
      "text/plain": [
       "    km4week    sp4week  MarathonTime\n",
       "0    132.80  14.434783        2.3700\n",
       "1     68.60  13.674419        2.5900\n",
       "2     82.70  13.520436        2.6600\n",
       "3    137.50  12.258544        2.6800\n",
       "4     84.60  13.945055        2.7400\n",
       "..      ...        ...           ...\n",
       "83    33.60  10.130653        3.9300\n",
       "84    55.40  11.043189        3.9400\n",
       "85    33.20  11.066667        3.9500\n",
       "86    17.90  10.848485        3.9800\n",
       "0     99.91  11.384000        3.9019\n",
       "\n",
       "[88 rows x 3 columns]"
      ]
     },
     "execution_count": 246,
     "metadata": {},
     "output_type": "execute_result"
    }
   ],
   "source": [
    "new_data[['km4week','sp4week','MarathonTime']]"
   ]
  },
  {
   "cell_type": "code",
   "execution_count": 262,
   "id": "d2634745-f252-4495-9221-f8d8e61bec6a",
   "metadata": {},
   "outputs": [
    {
     "data": {
      "image/png": "[encoded data removed]",
      "text/plain": [
       "<Figure size 432x288 with 1 Axes>"
      ]
     },
     "metadata": {
      "needs_background": "light"
     },
     "output_type": "display_data"
    }
   ],
   "source": [
    "fig,ax =plt.subplots ()\n",
    "x=new_data['MarathonTime']\n",
    "y= new_data['km4week']\n",
    "\n",
    "ax.plot (x,y, color='orange', linestyle='--')\n",
    "plt.title('MarathonTime Vs km4week')\n",
    "plt.xlabel('MarathonTime')\n",
    "plt.ylabel('km4week')\n",
    "\n",
    "plt.show()"
   ]
  },
  {
   "cell_type": "code",
   "execution_count": null,
   "id": "fe370662-06d6-4450-8c9c-594cb91a688c",
   "metadata": {},
   "outputs": [],
   "source": []
  },
  {
   "cell_type": "code",
   "execution_count": 265,
   "id": "567f7ca5-5fc7-4ffa-90ad-662eba48db39",
   "metadata": {},
   "outputs": [
    {
     "data": {
      "image/png": "[encoded data removed]",
      "text/plain": [
       "<Figure size 432x288 with 1 Axes>"
      ]
     },
     "metadata": {
      "needs_background": "light"
     },
     "output_type": "display_data"
    }
   ],
   "source": [
    "plt.scatter(x = new_data['sp4week'], y=new_data['MarathonTime'])\n",
    "plt.title('sp4week Vs Marathon Time')\n",
    "plt.xlabel('sp4week')\n",
    "plt.ylabel('Marathon Time')\n",
    "plt.show()"
   ]
  },
  {
   "cell_type": "code",
   "execution_count": null,
   "id": "fe99c829-f485-4855-90f3-2155a9f0b5c7",
   "metadata": {},
   "outputs": [],
   "source": []
  },
  {
   "cell_type": "code",
   "execution_count": 271,
   "id": "f84e3f32-57fc-4029-b898-ed8570ed9475",
   "metadata": {},
   "outputs": [
    {
     "data": {
      "image/png": "[encoded data removed]",
      "text/plain": [
       "<Figure size 432x288 with 1 Axes>"
      ]
     },
     "metadata": {
      "needs_background": "light"
     },
     "output_type": "display_data"
    }
   ],
   "source": [
    "new_data=new_data.query('sp4week<2000')\n",
    "plt.scatter(x = new_data['MarathonTime'], y=new_data['sp4week'])\n",
    "plt.title('sp4week Vs Marathon Time')\n",
    "plt.xlabel('MarathonTime')\n",
    "plt.ylabel('sp4week')\n",
    "plt.show()"
   ]
  },
  {
   "cell_type": "code",
   "execution_count": 279,
   "id": "fdb2727d-cbbf-4b9e-82ec-3702662a215f",
   "metadata": {},
   "outputs": [
    {
     "data": {
      "text/html": [
       "<div>\n",
       "<style scoped>\n",
       "    .dataframe tbody tr th:only-of-type {\n",
       "        vertical-align: middle;\n",
       "    }\n",
       "\n",
       "    .dataframe tbody tr th {\n",
       "        vertical-align: top;\n",
       "    }\n",
       "\n",
       "    .dataframe thead th {\n",
       "        text-align: right;\n",
       "    }\n",
       "</style>\n",
       "<table border=\"1\" class=\"dataframe\">\n",
       "  <thead>\n",
       "    <tr style=\"text-align: right;\">\n",
       "      <th></th>\n",
       "      <th>id</th>\n",
       "      <th>Marathon</th>\n",
       "      <th>Name</th>\n",
       "      <th>Category</th>\n",
       "      <th>km4week</th>\n",
       "      <th>sp4week</th>\n",
       "      <th>CrossTraining</th>\n",
       "      <th>Wall21</th>\n",
       "      <th>MarathonTime</th>\n",
       "      <th>CATEGORY</th>\n",
       "    </tr>\n",
       "  </thead>\n",
       "  <tbody>\n",
       "    <tr>\n",
       "      <th>0</th>\n",
       "      <td>1.0</td>\n",
       "      <td>Prague17</td>\n",
       "      <td>Blair MORGAN</td>\n",
       "      <td>MAM</td>\n",
       "      <td>132.8</td>\n",
       "      <td>14.434783</td>\n",
       "      <td>nocros</td>\n",
       "      <td>1.16</td>\n",
       "      <td>2.37</td>\n",
       "      <td>A</td>\n",
       "    </tr>\n",
       "    <tr>\n",
       "      <th>1</th>\n",
       "      <td>2.0</td>\n",
       "      <td>Prague17</td>\n",
       "      <td>Robert Heczko</td>\n",
       "      <td>MAM</td>\n",
       "      <td>68.6</td>\n",
       "      <td>13.674419</td>\n",
       "      <td>nocros</td>\n",
       "      <td>1.23</td>\n",
       "      <td>2.59</td>\n",
       "      <td>A</td>\n",
       "    </tr>\n",
       "    <tr>\n",
       "      <th>2</th>\n",
       "      <td>3.0</td>\n",
       "      <td>Prague17</td>\n",
       "      <td>Michon Jerome</td>\n",
       "      <td>MAM</td>\n",
       "      <td>82.7</td>\n",
       "      <td>13.520436</td>\n",
       "      <td>nocros</td>\n",
       "      <td>1.30</td>\n",
       "      <td>2.66</td>\n",
       "      <td>A</td>\n",
       "    </tr>\n",
       "    <tr>\n",
       "      <th>3</th>\n",
       "      <td>4.0</td>\n",
       "      <td>Prague17</td>\n",
       "      <td>Daniel Or lek</td>\n",
       "      <td>M45</td>\n",
       "      <td>137.5</td>\n",
       "      <td>12.258544</td>\n",
       "      <td>nocros</td>\n",
       "      <td>1.32</td>\n",
       "      <td>2.68</td>\n",
       "      <td>A</td>\n",
       "    </tr>\n",
       "    <tr>\n",
       "      <th>4</th>\n",
       "      <td>5.0</td>\n",
       "      <td>Prague17</td>\n",
       "      <td>Luk ? Mr zek</td>\n",
       "      <td>MAM</td>\n",
       "      <td>84.6</td>\n",
       "      <td>13.945055</td>\n",
       "      <td>nocros</td>\n",
       "      <td>1.36</td>\n",
       "      <td>2.74</td>\n",
       "      <td>A</td>\n",
       "    </tr>\n",
       "    <tr>\n",
       "      <th>5</th>\n",
       "      <td>6.0</td>\n",
       "      <td>Prague17</td>\n",
       "      <td>David Pecina</td>\n",
       "      <td>M40</td>\n",
       "      <td>42.2</td>\n",
       "      <td>13.612903</td>\n",
       "      <td>nocros</td>\n",
       "      <td>1.32</td>\n",
       "      <td>2.78</td>\n",
       "      <td>A</td>\n",
       "    </tr>\n",
       "    <tr>\n",
       "      <th>6</th>\n",
       "      <td>7.0</td>\n",
       "      <td>Prague17</td>\n",
       "      <td>Tomas Drabek</td>\n",
       "      <td>M40</td>\n",
       "      <td>89.0</td>\n",
       "      <td>12.594340</td>\n",
       "      <td>nocros</td>\n",
       "      <td>1.38</td>\n",
       "      <td>2.81</td>\n",
       "      <td>A</td>\n",
       "    </tr>\n",
       "    <tr>\n",
       "      <th>7</th>\n",
       "      <td>8.0</td>\n",
       "      <td>Prague17</td>\n",
       "      <td>Jan Rada</td>\n",
       "      <td>M45</td>\n",
       "      <td>106.0</td>\n",
       "      <td>12.694611</td>\n",
       "      <td>nocros</td>\n",
       "      <td>1.41</td>\n",
       "      <td>2.84</td>\n",
       "      <td>A</td>\n",
       "    </tr>\n",
       "    <tr>\n",
       "      <th>8</th>\n",
       "      <td>9.0</td>\n",
       "      <td>Prague17</td>\n",
       "      <td>Tomas Drabek</td>\n",
       "      <td>MAM</td>\n",
       "      <td>70.0</td>\n",
       "      <td>13.770492</td>\n",
       "      <td>ciclista 1h</td>\n",
       "      <td>1.38</td>\n",
       "      <td>2.83</td>\n",
       "      <td>A</td>\n",
       "    </tr>\n",
       "    <tr>\n",
       "      <th>9</th>\n",
       "      <td>10.0</td>\n",
       "      <td>Prague17</td>\n",
       "      <td>martin ?indel ?</td>\n",
       "      <td>M45</td>\n",
       "      <td>84.2</td>\n",
       "      <td>13.365079</td>\n",
       "      <td>nocros</td>\n",
       "      <td>1.35</td>\n",
       "      <td>2.86</td>\n",
       "      <td>A</td>\n",
       "    </tr>\n",
       "    <tr>\n",
       "      <th>10</th>\n",
       "      <td>11.0</td>\n",
       "      <td>Prague17</td>\n",
       "      <td>Maksim Remezau</td>\n",
       "      <td>MAM</td>\n",
       "      <td>93.5</td>\n",
       "      <td>13.200000</td>\n",
       "      <td>nocros</td>\n",
       "      <td>1.42</td>\n",
       "      <td>2.87</td>\n",
       "      <td>A</td>\n",
       "    </tr>\n",
       "    <tr>\n",
       "      <th>11</th>\n",
       "      <td>12.0</td>\n",
       "      <td>Prague17</td>\n",
       "      <td>Jaroslaw Marchewka</td>\n",
       "      <td>M50</td>\n",
       "      <td>65.7</td>\n",
       "      <td>13.362712</td>\n",
       "      <td>nocros</td>\n",
       "      <td>1.40</td>\n",
       "      <td>2.87</td>\n",
       "      <td>A</td>\n",
       "    </tr>\n",
       "    <tr>\n",
       "      <th>12</th>\n",
       "      <td>13.0</td>\n",
       "      <td>Prague17</td>\n",
       "      <td>Tom ? K?e?ek</td>\n",
       "      <td>M45</td>\n",
       "      <td>53.5</td>\n",
       "      <td>14.078947</td>\n",
       "      <td>ciclista 4h</td>\n",
       "      <td>1.37</td>\n",
       "      <td>2.88</td>\n",
       "      <td>A</td>\n",
       "    </tr>\n",
       "    <tr>\n",
       "      <th>13</th>\n",
       "      <td>14.0</td>\n",
       "      <td>Prague17</td>\n",
       "      <td>Ji?، Polcar</td>\n",
       "      <td>M40</td>\n",
       "      <td>84.4</td>\n",
       "      <td>13.836066</td>\n",
       "      <td>nocros</td>\n",
       "      <td>1.41</td>\n",
       "      <td>2.88</td>\n",
       "      <td>A</td>\n",
       "    </tr>\n",
       "    <tr>\n",
       "      <th>14</th>\n",
       "      <td>15.0</td>\n",
       "      <td>Prague17</td>\n",
       "      <td>Denis Wachtl</td>\n",
       "      <td>MAM</td>\n",
       "      <td>76.8</td>\n",
       "      <td>12.943820</td>\n",
       "      <td>nocros</td>\n",
       "      <td>1.44</td>\n",
       "      <td>2.89</td>\n",
       "      <td>A</td>\n",
       "    </tr>\n",
       "    <tr>\n",
       "      <th>15</th>\n",
       "      <td>16.0</td>\n",
       "      <td>Prague17</td>\n",
       "      <td>David Lehnen</td>\n",
       "      <td>MAM</td>\n",
       "      <td>76.1</td>\n",
       "      <td>14.970492</td>\n",
       "      <td>nocros</td>\n",
       "      <td>1.45</td>\n",
       "      <td>2.90</td>\n",
       "      <td>A</td>\n",
       "    </tr>\n",
       "    <tr>\n",
       "      <th>16</th>\n",
       "      <td>17.0</td>\n",
       "      <td>Prague17</td>\n",
       "      <td>Jپrgen Steiner</td>\n",
       "      <td>M55</td>\n",
       "      <td>112.3</td>\n",
       "      <td>12.594393</td>\n",
       "      <td>ciclista 13h</td>\n",
       "      <td>1.44</td>\n",
       "      <td>2.91</td>\n",
       "      <td>A</td>\n",
       "    </tr>\n",
       "    <tr>\n",
       "      <th>17</th>\n",
       "      <td>18.0</td>\n",
       "      <td>Prague17</td>\n",
       "      <td>David Marek</td>\n",
       "      <td>M40</td>\n",
       "      <td>49.7</td>\n",
       "      <td>14.336538</td>\n",
       "      <td>nocros</td>\n",
       "      <td>1.44</td>\n",
       "      <td>2.91</td>\n",
       "      <td>A</td>\n",
       "    </tr>\n",
       "    <tr>\n",
       "      <th>18</th>\n",
       "      <td>19.0</td>\n",
       "      <td>Prague17</td>\n",
       "      <td>Jan Fri?ek</td>\n",
       "      <td>MAM</td>\n",
       "      <td>84.5</td>\n",
       "      <td>12.549505</td>\n",
       "      <td>nocros</td>\n",
       "      <td>1.45</td>\n",
       "      <td>2.93</td>\n",
       "      <td>A</td>\n",
       "    </tr>\n",
       "    <tr>\n",
       "      <th>19</th>\n",
       "      <td>20.0</td>\n",
       "      <td>Prague17</td>\n",
       "      <td>Vlastimil Lys k</td>\n",
       "      <td>MAM</td>\n",
       "      <td>76.7</td>\n",
       "      <td>8.031414</td>\n",
       "      <td>nocros</td>\n",
       "      <td>1.41</td>\n",
       "      <td>2.94</td>\n",
       "      <td>A</td>\n",
       "    </tr>\n",
       "    <tr>\n",
       "      <th>20</th>\n",
       "      <td>21.0</td>\n",
       "      <td>Prague17</td>\n",
       "      <td>Radek Dvo? k</td>\n",
       "      <td>MAM</td>\n",
       "      <td>94.5</td>\n",
       "      <td>11.886792</td>\n",
       "      <td>nocros</td>\n",
       "      <td>1.45</td>\n",
       "      <td>2.99</td>\n",
       "      <td>A</td>\n",
       "    </tr>\n",
       "  </tbody>\n",
       "</table>\n",
       "</div>"
      ],
      "text/plain": [
       "      id  Marathon                Name Category  km4week    sp4week  \\\n",
       "0    1.0  Prague17        Blair MORGAN      MAM    132.8  14.434783   \n",
       "1    2.0  Prague17       Robert Heczko      MAM     68.6  13.674419   \n",
       "2    3.0  Prague17       Michon Jerome      MAM     82.7  13.520436   \n",
       "3    4.0  Prague17       Daniel Or lek      M45    137.5  12.258544   \n",
       "4    5.0  Prague17        Luk ? Mr zek      MAM     84.6  13.945055   \n",
       "5    6.0  Prague17        David Pecina      M40     42.2  13.612903   \n",
       "6    7.0  Prague17        Tomas Drabek      M40     89.0  12.594340   \n",
       "7    8.0  Prague17            Jan Rada      M45    106.0  12.694611   \n",
       "8    9.0  Prague17        Tomas Drabek      MAM     70.0  13.770492   \n",
       "9   10.0  Prague17     martin ?indel ?      M45     84.2  13.365079   \n",
       "10  11.0  Prague17      Maksim Remezau      MAM     93.5  13.200000   \n",
       "11  12.0  Prague17  Jaroslaw Marchewka      M50     65.7  13.362712   \n",
       "12  13.0  Prague17        Tom ? K?e?ek      M45     53.5  14.078947   \n",
       "13  14.0  Prague17         Ji?، Polcar      M40     84.4  13.836066   \n",
       "14  15.0  Prague17        Denis Wachtl      MAM     76.8  12.943820   \n",
       "15  16.0  Prague17        David Lehnen      MAM     76.1  14.970492   \n",
       "16  17.0  Prague17      Jپrgen Steiner      M55    112.3  12.594393   \n",
       "17  18.0  Prague17         David Marek      M40     49.7  14.336538   \n",
       "18  19.0  Prague17          Jan Fri?ek      MAM     84.5  12.549505   \n",
       "19  20.0  Prague17     Vlastimil Lys k      MAM     76.7   8.031414   \n",
       "20  21.0  Prague17        Radek Dvo? k      MAM     94.5  11.886792   \n",
       "\n",
       "   CrossTraining Wall21  MarathonTime CATEGORY  \n",
       "0         nocros   1.16          2.37        A  \n",
       "1         nocros   1.23          2.59        A  \n",
       "2         nocros   1.30          2.66        A  \n",
       "3         nocros   1.32          2.68        A  \n",
       "4         nocros   1.36          2.74        A  \n",
       "5         nocros   1.32          2.78        A  \n",
       "6         nocros   1.38          2.81        A  \n",
       "7         nocros   1.41          2.84        A  \n",
       "8    ciclista 1h   1.38          2.83        A  \n",
       "9         nocros   1.35          2.86        A  \n",
       "10        nocros   1.42          2.87        A  \n",
       "11        nocros   1.40          2.87        A  \n",
       "12   ciclista 4h   1.37          2.88        A  \n",
       "13        nocros   1.41          2.88        A  \n",
       "14        nocros   1.44          2.89        A  \n",
       "15        nocros   1.45          2.90        A  \n",
       "16  ciclista 13h   1.44          2.91        A  \n",
       "17        nocros   1.44          2.91        A  \n",
       "18        nocros   1.45          2.93        A  \n",
       "19        nocros   1.41          2.94        A  \n",
       "20        nocros   1.45          2.99        A  "
      ]
     },
     "execution_count": 279,
     "metadata": {},
     "output_type": "execute_result"
    }
   ],
   "source": [
    "new_data.loc[new_data.MarathonTime < 3.00]"
   ]
  },
  {
   "cell_type": "code",
   "execution_count": 295,
   "id": "0ea2f427-b751-4b8c-9cce-3553471272a2",
   "metadata": {},
   "outputs": [
    {
     "data": {
      "image/png": "[encoded data removed]",
      "text/plain": [
       "<Figure size 432x288 with 1 Axes>"
      ]
     },
     "metadata": {
      "needs_background": "light"
     },
     "output_type": "display_data"
    }
   ],
   "source": [
    "MarathonTime= [2.37, 2.59,2.66,2.68,2.74,2.78,2.81,2.83, 2.84,2.86,2.87,2.87,2.88,2.88,2.89,2.90,2.91,2.91,2.93,2.94,2.99]\n",
    "km4week= [ 132.8,68.6,82.7,137.5,84.6,42.2,89.0,106.0,70.0,84.2,93.5,65.7,53.5,84.4,76.8,76.1,112.3,49.7,84.5,76.7,94.5]\n",
    "#plt.plot(x,y)\n",
    "plt.plot(MarathonTime, km4week, color ='green')\n",
    "plt.title('CatA MarathonTime Vs km4week')\n",
    "plt.xlabel('MarathonTime')\n",
    "plt.ylabel('km4week')\n",
    "plt.show()"
   ]
  },
  {
   "cell_type": "code",
   "execution_count": 213,
   "id": "c28205a3-801d-4b4c-a6a0-e8d84f4ed96f",
   "metadata": {},
   "outputs": [
    {
     "data": {
      "text/html": [
       "<div>\n",
       "<style scoped>\n",
       "    .dataframe tbody tr th:only-of-type {\n",
       "        vertical-align: middle;\n",
       "    }\n",
       "\n",
       "    .dataframe tbody tr th {\n",
       "        vertical-align: top;\n",
       "    }\n",
       "\n",
       "    .dataframe thead th {\n",
       "        text-align: right;\n",
       "    }\n",
       "</style>\n",
       "<table border=\"1\" class=\"dataframe\">\n",
       "  <thead>\n",
       "    <tr style=\"text-align: right;\">\n",
       "      <th></th>\n",
       "      <th></th>\n",
       "      <th></th>\n",
       "      <th>id</th>\n",
       "      <th>sp4week</th>\n",
       "    </tr>\n",
       "    <tr>\n",
       "      <th>Category</th>\n",
       "      <th>km4week</th>\n",
       "      <th>MarathonTime</th>\n",
       "      <th></th>\n",
       "      <th></th>\n",
       "    </tr>\n",
       "  </thead>\n",
       "  <tbody>\n",
       "    <tr>\n",
       "      <th rowspan=\"5\" valign=\"top\">M40</th>\n",
       "      <th>17.9</th>\n",
       "      <th>3.98</th>\n",
       "      <td>87.0</td>\n",
       "      <td>10.848485</td>\n",
       "    </tr>\n",
       "    <tr>\n",
       "      <th>27.7</th>\n",
       "      <th>3.32</th>\n",
       "      <td>45.0</td>\n",
       "      <td>11.622378</td>\n",
       "    </tr>\n",
       "    <tr>\n",
       "      <th>33.6</th>\n",
       "      <th>3.93</th>\n",
       "      <td>84.0</td>\n",
       "      <td>10.130653</td>\n",
       "    </tr>\n",
       "    <tr>\n",
       "      <th>42.2</th>\n",
       "      <th>2.78</th>\n",
       "      <td>6.0</td>\n",
       "      <td>13.612903</td>\n",
       "    </tr>\n",
       "    <tr>\n",
       "      <th>43.2</th>\n",
       "      <th>3.55</th>\n",
       "      <td>61.0</td>\n",
       "      <td>10.936709</td>\n",
       "    </tr>\n",
       "    <tr>\n",
       "      <th>...</th>\n",
       "      <th>...</th>\n",
       "      <th>...</th>\n",
       "      <td>...</td>\n",
       "      <td>...</td>\n",
       "    </tr>\n",
       "    <tr>\n",
       "      <th>MAM</th>\n",
       "      <th>132.8</th>\n",
       "      <th>2.37</th>\n",
       "      <td>1.0</td>\n",
       "      <td>14.434783</td>\n",
       "    </tr>\n",
       "    <tr>\n",
       "      <th rowspan=\"4\" valign=\"top\">WAM</th>\n",
       "      <th>48.6</th>\n",
       "      <th>3.33</th>\n",
       "      <td>47.0</td>\n",
       "      <td>12.252101</td>\n",
       "    </tr>\n",
       "    <tr>\n",
       "      <th>52.3</th>\n",
       "      <th>3.69</th>\n",
       "      <td>73.0</td>\n",
       "      <td>11.708955</td>\n",
       "    </tr>\n",
       "    <tr>\n",
       "      <th>69.2</th>\n",
       "      <th>3.25</th>\n",
       "      <td>40.0</td>\n",
       "      <td>10.053269</td>\n",
       "    </tr>\n",
       "    <tr>\n",
       "      <th>129.6</th>\n",
       "      <th>3.12</th>\n",
       "      <td>27.0</td>\n",
       "      <td>12.188088</td>\n",
       "    </tr>\n",
       "  </tbody>\n",
       "</table>\n",
       "<p>82 rows × 2 columns</p>\n",
       "</div>"
      ],
      "text/plain": [
       "                                 id    sp4week\n",
       "Category km4week MarathonTime                 \n",
       "M40      17.9    3.98          87.0  10.848485\n",
       "         27.7    3.32          45.0  11.622378\n",
       "         33.6    3.93          84.0  10.130653\n",
       "         42.2    2.78           6.0  13.612903\n",
       "         43.2    3.55          61.0  10.936709\n",
       "...                             ...        ...\n",
       "MAM      132.8   2.37           1.0  14.434783\n",
       "WAM      48.6    3.33          47.0  12.252101\n",
       "         52.3    3.69          73.0  11.708955\n",
       "         69.2    3.25          40.0  10.053269\n",
       "         129.6   3.12          27.0  12.188088\n",
       "\n",
       "[82 rows x 2 columns]"
      ]
     },
     "execution_count": 213,
     "metadata": {},
     "output_type": "execute_result"
    }
   ],
   "source": [
    "new_data.groupby(['Category','km4week','MarathonTime']).mean()\n"
   ]
  },
  {
   "cell_type": "code",
   "execution_count": 138,
   "id": "888852f6-2935-406e-853e-9ca5e9466de3",
   "metadata": {},
   "outputs": [],
   "source": [
    "Category=['M40','M45','M50','M55','MAM','WAM']"
   ]
  },
  {
   "cell_type": "code",
   "execution_count": 139,
   "id": "d41063da-683f-4387-abd2-ed68ee33c266",
   "metadata": {},
   "outputs": [
    {
     "name": "stdout",
     "output_type": "stream",
     "text": [
      "M50\n"
     ]
    }
   ],
   "source": [
    "print(Category[2])"
   ]
  },
  {
   "cell_type": "code",
   "execution_count": 296,
   "id": "671ea207-16bb-400d-94ad-eaa6d0fd41fb",
   "metadata": {},
   "outputs": [
    {
     "data": {
      "text/plain": [
       "array(['MAM', 'M45', 'M40', 'M50', 'M55', nan, 'WAM'], dtype=object)"
      ]
     },
     "execution_count": 296,
     "metadata": {},
     "output_type": "execute_result"
    }
   ],
   "source": [
    "new_data['Category'].unique()"
   ]
  },
  {
   "cell_type": "code",
   "execution_count": 297,
   "id": "15ce7833-d311-42b9-a45a-91ff991cdb86",
   "metadata": {},
   "outputs": [
    {
     "data": {
      "text/plain": [
       "array([2.37  , 2.59  , 2.66  , 2.68  , 2.74  , 2.78  , 2.81  , 2.84  ,\n",
       "       2.83  , 2.86  , 2.87  , 2.88  , 2.89  , 2.9   , 2.91  , 2.93  ,\n",
       "       2.94  , 2.99  , 3.04  , 3.05  , 3.09  , 3.1   , 3.11  , 3.12  ,\n",
       "       3.14  , 3.15  , 3.16  , 3.19  , 3.21  , 3.22  , 3.23  , 3.24  ,\n",
       "       3.25  , 3.28  , 3.32  , 3.33  , 3.35  , 3.36  , 3.39  , 3.4   ,\n",
       "       3.45  , 3.46  , 3.47  , 3.5   , 3.51  , 3.52  , 3.55  , 3.56  ,\n",
       "       3.59  , 3.62  , 3.64  , 3.65  , 3.67  , 3.68  , 3.69  , 3.75  ,\n",
       "       3.76  , 3.78  , 3.8   , 3.87  , 3.89  , 3.9   , 3.93  , 3.94  ,\n",
       "       3.95  , 3.98  , 3.9019])"
      ]
     },
     "execution_count": 297,
     "metadata": {},
     "output_type": "execute_result"
    }
   ],
   "source": [
    "new_data['MarathonTime'].unique()"
   ]
  },
  {
   "cell_type": "code",
   "execution_count": 298,
   "id": "4737363c-2223-41fd-8dce-add212ebe4aa",
   "metadata": {},
   "outputs": [
    {
     "name": "stdout",
     "output_type": "stream",
     "text": [
      "0\n",
      "id                        1.0\n",
      "Marathon             Prague17\n",
      "Name             Blair MORGAN\n",
      "Category                  MAM\n",
      "km4week                 132.8\n",
      "sp4week             14.434783\n",
      "CrossTraining          nocros\n",
      "Wall21                   1.16\n",
      "MarathonTime             2.37\n",
      "CATEGORY                    A\n",
      "Name: 0, dtype: object\n",
      "1\n",
      "id                         2.0\n",
      "Marathon              Prague17\n",
      "Name             Robert Heczko\n",
      "Category                   MAM\n",
      "km4week                   68.6\n",
      "sp4week              13.674419\n",
      "CrossTraining           nocros\n",
      "Wall21                    1.23\n",
      "MarathonTime              2.59\n",
      "CATEGORY                     A\n",
      "Name: 1, dtype: object\n",
      "2\n",
      "id                         3.0\n",
      "Marathon              Prague17\n",
      "Name             Michon Jerome\n",
      "Category                   MAM\n",
      "km4week                   82.7\n",
      "sp4week              13.520436\n",
      "CrossTraining           nocros\n",
      "Wall21                    1.30\n",
      "MarathonTime              2.66\n",
      "CATEGORY                     A\n",
      "Name: 2, dtype: object\n",
      "3\n",
      "id                         4.0\n",
      "Marathon              Prague17\n",
      "Name             Daniel Or lek\n",
      "Category                   M45\n",
      "km4week                  137.5\n",
      "sp4week              12.258544\n",
      "CrossTraining           nocros\n",
      "Wall21                    1.32\n",
      "MarathonTime              2.68\n",
      "CATEGORY                     A\n",
      "Name: 3, dtype: object\n",
      "4\n",
      "id                        5.0\n",
      "Marathon             Prague17\n",
      "Name             Luk ? Mr zek\n",
      "Category                  MAM\n",
      "km4week                  84.6\n",
      "sp4week             13.945055\n",
      "CrossTraining          nocros\n",
      "Wall21                   1.36\n",
      "MarathonTime             2.74\n",
      "CATEGORY                    A\n",
      "Name: 4, dtype: object\n"
     ]
    }
   ],
   "source": [
    "for index, row in new_data.head().iterrows():\n",
    "    print(index)\n",
    "    print(row)\n",
    "    "
   ]
  },
  {
   "cell_type": "code",
   "execution_count": 299,
   "id": "8a3af0fb-51d3-4252-b36d-d7e8fd3dd1f5",
   "metadata": {},
   "outputs": [
    {
     "name": "stderr",
     "output_type": "stream",
     "text": [
      "C:\\Users\\scorbett\\AppData\\Local\\Temp\\ipykernel_7116\\2472775533.py:1: FutureWarning: Dropping of nuisance columns in DataFrame reductions (with 'numeric_only=None') is deprecated; in a future version this will raise TypeError.  Select only valid columns before calling the reduction.\n",
      "  new_data.min()\n"
     ]
    },
    {
     "data": {
      "text/plain": [
       "id                        1.0\n",
       "Marathon                 Cork\n",
       "Name              ????? ?????\n",
       "km4week                  17.9\n",
       "sp4week              8.031414\n",
       "CrossTraining    ciclista 13h\n",
       "Wall21                   -   \n",
       "MarathonTime             2.37\n",
       "CATEGORY                    A\n",
       "dtype: object"
      ]
     },
     "execution_count": 299,
     "metadata": {},
     "output_type": "execute_result"
    }
   ],
   "source": [
    "new_data.min()"
   ]
  },
  {
   "cell_type": "code",
   "execution_count": 300,
   "id": "a48597c6-cb19-4888-8ebf-d66e7381d38b",
   "metadata": {},
   "outputs": [
    {
     "name": "stderr",
     "output_type": "stream",
     "text": [
      "C:\\Users\\scorbett\\AppData\\Local\\Temp\\ipykernel_7116\\316934602.py:1: FutureWarning: Dropping of nuisance columns in DataFrame reductions (with 'numeric_only=None') is deprecated; in a future version this will raise TypeError.  Select only valid columns before calling the reduction.\n",
      "  new_data.max()\n"
     ]
    },
    {
     "data": {
      "text/plain": [
       "id                          87.0\n",
       "Marathon                Prague17\n",
       "Name             martin ?indel ?\n",
       "km4week                    137.5\n",
       "sp4week                14.970492\n",
       "CrossTraining             nocros\n",
       "Wall21                      2.05\n",
       "MarathonTime                3.98\n",
       "CATEGORY                       D\n",
       "dtype: object"
      ]
     },
     "execution_count": 300,
     "metadata": {},
     "output_type": "execute_result"
    }
   ],
   "source": [
    "new_data.max()\n"
   ]
  },
  {
   "cell_type": "code",
   "execution_count": 312,
   "id": "a73acbb1-ff5c-4d21-91c7-b3515a232b30",
   "metadata": {},
   "outputs": [
    {
     "data": {
      "text/html": [
       "<div>\n",
       "<style scoped>\n",
       "    .dataframe tbody tr th:only-of-type {\n",
       "        vertical-align: middle;\n",
       "    }\n",
       "\n",
       "    .dataframe tbody tr th {\n",
       "        vertical-align: top;\n",
       "    }\n",
       "\n",
       "    .dataframe thead th {\n",
       "        text-align: right;\n",
       "    }\n",
       "</style>\n",
       "<table border=\"1\" class=\"dataframe\">\n",
       "  <thead>\n",
       "    <tr style=\"text-align: right;\">\n",
       "      <th></th>\n",
       "      <th>id</th>\n",
       "      <th>km4week</th>\n",
       "      <th>sp4week</th>\n",
       "      <th>MarathonTime</th>\n",
       "    </tr>\n",
       "  </thead>\n",
       "  <tbody>\n",
       "    <tr>\n",
       "      <th>id</th>\n",
       "      <td>1.000000</td>\n",
       "      <td>-0.593469</td>\n",
       "      <td>-0.620864</td>\n",
       "      <td>0.991353</td>\n",
       "    </tr>\n",
       "    <tr>\n",
       "      <th>km4week</th>\n",
       "      <td>-0.593469</td>\n",
       "      <td>1.000000</td>\n",
       "      <td>0.177068</td>\n",
       "      <td>-0.560912</td>\n",
       "    </tr>\n",
       "    <tr>\n",
       "      <th>sp4week</th>\n",
       "      <td>-0.620864</td>\n",
       "      <td>0.177068</td>\n",
       "      <td>1.000000</td>\n",
       "      <td>-0.625788</td>\n",
       "    </tr>\n",
       "    <tr>\n",
       "      <th>MarathonTime</th>\n",
       "      <td>0.991353</td>\n",
       "      <td>-0.560912</td>\n",
       "      <td>-0.625788</td>\n",
       "      <td>1.000000</td>\n",
       "    </tr>\n",
       "  </tbody>\n",
       "</table>\n",
       "</div>"
      ],
      "text/plain": [
       "                    id   km4week   sp4week  MarathonTime\n",
       "id            1.000000 -0.593469 -0.620864      0.991353\n",
       "km4week      -0.593469  1.000000  0.177068     -0.560912\n",
       "sp4week      -0.620864  0.177068  1.000000     -0.625788\n",
       "MarathonTime  0.991353 -0.560912 -0.625788      1.000000"
      ]
     },
     "execution_count": 312,
     "metadata": {},
     "output_type": "execute_result"
    }
   ],
   "source": [
    "new_data.corr()"
   ]
  },
  {
   "cell_type": "code",
   "execution_count": 313,
   "id": "85582b45-0a4b-4525-957d-ceef88dd7259",
   "metadata": {},
   "outputs": [],
   "source": [
    "from sklearn.model_selection import train_test_split\n",
    "from sklearn.linear_model import LinearRegression\n",
    "from sklearn.preprocessing import PolynomialFeatures\n",
    "from sklearn.model_selection import cross_val_score"
   ]
  },
  {
   "cell_type": "code",
   "execution_count": 315,
   "id": "fa06eb42-b42b-41a4-b19f-d1bf9877e7da",
   "metadata": {},
   "outputs": [
    {
     "ename": "ValueError",
     "evalue": "Expected 2D array, got 1D array instead:\narray=[2.37 2.59 2.66 2.68 2.74 2.78 2.81 2.83 2.84 2.86 2.87 2.87 2.88 2.88\n 2.89 2.9  2.91 2.91 2.93 2.94 2.99].\nReshape your data either using array.reshape(-1, 1) if your data has a single feature or array.reshape(1, -1) if it contains a single sample.",
     "output_type": "error",
     "traceback": [
      "\u001b[1;31m---------------------------------------------------------------------------\u001b[0m",
      "\u001b[1;31mValueError\u001b[0m                                Traceback (most recent call last)",
      "Input \u001b[1;32mIn [315]\u001b[0m, in \u001b[0;36m<cell line: 1>\u001b[1;34m()\u001b[0m\n\u001b[1;32m----> 1\u001b[0m reg \u001b[38;5;241m=\u001b[39m\u001b[43mLinearRegression\u001b[49m\u001b[43m(\u001b[49m\u001b[43m)\u001b[49m\u001b[38;5;241;43m.\u001b[39;49m\u001b[43mfit\u001b[49m\u001b[43m(\u001b[49m\u001b[43mx\u001b[49m\u001b[43m,\u001b[49m\u001b[43my\u001b[49m\u001b[43m)\u001b[49m\n",
      "File \u001b[1;32m~\\Anaconda3\\lib\\site-packages\\sklearn\\linear_model\\_base.py:662\u001b[0m, in \u001b[0;36mLinearRegression.fit\u001b[1;34m(self, X, y, sample_weight)\u001b[0m\n\u001b[0;32m    658\u001b[0m n_jobs_ \u001b[38;5;241m=\u001b[39m \u001b[38;5;28mself\u001b[39m\u001b[38;5;241m.\u001b[39mn_jobs\n\u001b[0;32m    660\u001b[0m accept_sparse \u001b[38;5;241m=\u001b[39m \u001b[38;5;28;01mFalse\u001b[39;00m \u001b[38;5;28;01mif\u001b[39;00m \u001b[38;5;28mself\u001b[39m\u001b[38;5;241m.\u001b[39mpositive \u001b[38;5;28;01melse\u001b[39;00m [\u001b[38;5;124m\"\u001b[39m\u001b[38;5;124mcsr\u001b[39m\u001b[38;5;124m\"\u001b[39m, \u001b[38;5;124m\"\u001b[39m\u001b[38;5;124mcsc\u001b[39m\u001b[38;5;124m\"\u001b[39m, \u001b[38;5;124m\"\u001b[39m\u001b[38;5;124mcoo\u001b[39m\u001b[38;5;124m\"\u001b[39m]\n\u001b[1;32m--> 662\u001b[0m X, y \u001b[38;5;241m=\u001b[39m \u001b[38;5;28;43mself\u001b[39;49m\u001b[38;5;241;43m.\u001b[39;49m\u001b[43m_validate_data\u001b[49m\u001b[43m(\u001b[49m\n\u001b[0;32m    663\u001b[0m \u001b[43m    \u001b[49m\u001b[43mX\u001b[49m\u001b[43m,\u001b[49m\u001b[43m \u001b[49m\u001b[43my\u001b[49m\u001b[43m,\u001b[49m\u001b[43m \u001b[49m\u001b[43maccept_sparse\u001b[49m\u001b[38;5;241;43m=\u001b[39;49m\u001b[43maccept_sparse\u001b[49m\u001b[43m,\u001b[49m\u001b[43m \u001b[49m\u001b[43my_numeric\u001b[49m\u001b[38;5;241;43m=\u001b[39;49m\u001b[38;5;28;43;01mTrue\u001b[39;49;00m\u001b[43m,\u001b[49m\u001b[43m \u001b[49m\u001b[43mmulti_output\u001b[49m\u001b[38;5;241;43m=\u001b[39;49m\u001b[38;5;28;43;01mTrue\u001b[39;49;00m\n\u001b[0;32m    664\u001b[0m \u001b[43m\u001b[49m\u001b[43m)\u001b[49m\n\u001b[0;32m    666\u001b[0m \u001b[38;5;28;01mif\u001b[39;00m sample_weight \u001b[38;5;129;01mis\u001b[39;00m \u001b[38;5;129;01mnot\u001b[39;00m \u001b[38;5;28;01mNone\u001b[39;00m:\n\u001b[0;32m    667\u001b[0m     sample_weight \u001b[38;5;241m=\u001b[39m _check_sample_weight(sample_weight, X, dtype\u001b[38;5;241m=\u001b[39mX\u001b[38;5;241m.\u001b[39mdtype)\n",
      "File \u001b[1;32m~\\Anaconda3\\lib\\site-packages\\sklearn\\base.py:581\u001b[0m, in \u001b[0;36mBaseEstimator._validate_data\u001b[1;34m(self, X, y, reset, validate_separately, **check_params)\u001b[0m\n\u001b[0;32m    579\u001b[0m         y \u001b[38;5;241m=\u001b[39m check_array(y, \u001b[38;5;241m*\u001b[39m\u001b[38;5;241m*\u001b[39mcheck_y_params)\n\u001b[0;32m    580\u001b[0m     \u001b[38;5;28;01melse\u001b[39;00m:\n\u001b[1;32m--> 581\u001b[0m         X, y \u001b[38;5;241m=\u001b[39m check_X_y(X, y, \u001b[38;5;241m*\u001b[39m\u001b[38;5;241m*\u001b[39mcheck_params)\n\u001b[0;32m    582\u001b[0m     out \u001b[38;5;241m=\u001b[39m X, y\n\u001b[0;32m    584\u001b[0m \u001b[38;5;28;01mif\u001b[39;00m \u001b[38;5;129;01mnot\u001b[39;00m no_val_X \u001b[38;5;129;01mand\u001b[39;00m check_params\u001b[38;5;241m.\u001b[39mget(\u001b[38;5;124m\"\u001b[39m\u001b[38;5;124mensure_2d\u001b[39m\u001b[38;5;124m\"\u001b[39m, \u001b[38;5;28;01mTrue\u001b[39;00m):\n",
      "File \u001b[1;32m~\\Anaconda3\\lib\\site-packages\\sklearn\\utils\\validation.py:964\u001b[0m, in \u001b[0;36mcheck_X_y\u001b[1;34m(X, y, accept_sparse, accept_large_sparse, dtype, order, copy, force_all_finite, ensure_2d, allow_nd, multi_output, ensure_min_samples, ensure_min_features, y_numeric, estimator)\u001b[0m\n\u001b[0;32m    961\u001b[0m \u001b[38;5;28;01mif\u001b[39;00m y \u001b[38;5;129;01mis\u001b[39;00m \u001b[38;5;28;01mNone\u001b[39;00m:\n\u001b[0;32m    962\u001b[0m     \u001b[38;5;28;01mraise\u001b[39;00m \u001b[38;5;167;01mValueError\u001b[39;00m(\u001b[38;5;124m\"\u001b[39m\u001b[38;5;124my cannot be None\u001b[39m\u001b[38;5;124m\"\u001b[39m)\n\u001b[1;32m--> 964\u001b[0m X \u001b[38;5;241m=\u001b[39m \u001b[43mcheck_array\u001b[49m\u001b[43m(\u001b[49m\n\u001b[0;32m    965\u001b[0m \u001b[43m    \u001b[49m\u001b[43mX\u001b[49m\u001b[43m,\u001b[49m\n\u001b[0;32m    966\u001b[0m \u001b[43m    \u001b[49m\u001b[43maccept_sparse\u001b[49m\u001b[38;5;241;43m=\u001b[39;49m\u001b[43maccept_sparse\u001b[49m\u001b[43m,\u001b[49m\n\u001b[0;32m    967\u001b[0m \u001b[43m    \u001b[49m\u001b[43maccept_large_sparse\u001b[49m\u001b[38;5;241;43m=\u001b[39;49m\u001b[43maccept_large_sparse\u001b[49m\u001b[43m,\u001b[49m\n\u001b[0;32m    968\u001b[0m \u001b[43m    \u001b[49m\u001b[43mdtype\u001b[49m\u001b[38;5;241;43m=\u001b[39;49m\u001b[43mdtype\u001b[49m\u001b[43m,\u001b[49m\n\u001b[0;32m    969\u001b[0m \u001b[43m    \u001b[49m\u001b[43morder\u001b[49m\u001b[38;5;241;43m=\u001b[39;49m\u001b[43morder\u001b[49m\u001b[43m,\u001b[49m\n\u001b[0;32m    970\u001b[0m \u001b[43m    \u001b[49m\u001b[43mcopy\u001b[49m\u001b[38;5;241;43m=\u001b[39;49m\u001b[43mcopy\u001b[49m\u001b[43m,\u001b[49m\n\u001b[0;32m    971\u001b[0m \u001b[43m    \u001b[49m\u001b[43mforce_all_finite\u001b[49m\u001b[38;5;241;43m=\u001b[39;49m\u001b[43mforce_all_finite\u001b[49m\u001b[43m,\u001b[49m\n\u001b[0;32m    972\u001b[0m \u001b[43m    \u001b[49m\u001b[43mensure_2d\u001b[49m\u001b[38;5;241;43m=\u001b[39;49m\u001b[43mensure_2d\u001b[49m\u001b[43m,\u001b[49m\n\u001b[0;32m    973\u001b[0m \u001b[43m    \u001b[49m\u001b[43mallow_nd\u001b[49m\u001b[38;5;241;43m=\u001b[39;49m\u001b[43mallow_nd\u001b[49m\u001b[43m,\u001b[49m\n\u001b[0;32m    974\u001b[0m \u001b[43m    \u001b[49m\u001b[43mensure_min_samples\u001b[49m\u001b[38;5;241;43m=\u001b[39;49m\u001b[43mensure_min_samples\u001b[49m\u001b[43m,\u001b[49m\n\u001b[0;32m    975\u001b[0m \u001b[43m    \u001b[49m\u001b[43mensure_min_features\u001b[49m\u001b[38;5;241;43m=\u001b[39;49m\u001b[43mensure_min_features\u001b[49m\u001b[43m,\u001b[49m\n\u001b[0;32m    976\u001b[0m \u001b[43m    \u001b[49m\u001b[43mestimator\u001b[49m\u001b[38;5;241;43m=\u001b[39;49m\u001b[43mestimator\u001b[49m\u001b[43m,\u001b[49m\n\u001b[0;32m    977\u001b[0m \u001b[43m\u001b[49m\u001b[43m)\u001b[49m\n\u001b[0;32m    979\u001b[0m y \u001b[38;5;241m=\u001b[39m _check_y(y, multi_output\u001b[38;5;241m=\u001b[39mmulti_output, y_numeric\u001b[38;5;241m=\u001b[39my_numeric)\n\u001b[0;32m    981\u001b[0m check_consistent_length(X, y)\n",
      "File \u001b[1;32m~\\Anaconda3\\lib\\site-packages\\sklearn\\utils\\validation.py:769\u001b[0m, in \u001b[0;36mcheck_array\u001b[1;34m(array, accept_sparse, accept_large_sparse, dtype, order, copy, force_all_finite, ensure_2d, allow_nd, ensure_min_samples, ensure_min_features, estimator)\u001b[0m\n\u001b[0;32m    767\u001b[0m     \u001b[38;5;66;03m# If input is 1D raise error\u001b[39;00m\n\u001b[0;32m    768\u001b[0m     \u001b[38;5;28;01mif\u001b[39;00m array\u001b[38;5;241m.\u001b[39mndim \u001b[38;5;241m==\u001b[39m \u001b[38;5;241m1\u001b[39m:\n\u001b[1;32m--> 769\u001b[0m         \u001b[38;5;28;01mraise\u001b[39;00m \u001b[38;5;167;01mValueError\u001b[39;00m(\n\u001b[0;32m    770\u001b[0m             \u001b[38;5;124m\"\u001b[39m\u001b[38;5;124mExpected 2D array, got 1D array instead:\u001b[39m\u001b[38;5;130;01m\\n\u001b[39;00m\u001b[38;5;124marray=\u001b[39m\u001b[38;5;132;01m{}\u001b[39;00m\u001b[38;5;124m.\u001b[39m\u001b[38;5;130;01m\\n\u001b[39;00m\u001b[38;5;124m\"\u001b[39m\n\u001b[0;32m    771\u001b[0m             \u001b[38;5;124m\"\u001b[39m\u001b[38;5;124mReshape your data either using array.reshape(-1, 1) if \u001b[39m\u001b[38;5;124m\"\u001b[39m\n\u001b[0;32m    772\u001b[0m             \u001b[38;5;124m\"\u001b[39m\u001b[38;5;124myour data has a single feature or array.reshape(1, -1) \u001b[39m\u001b[38;5;124m\"\u001b[39m\n\u001b[0;32m    773\u001b[0m             \u001b[38;5;124m\"\u001b[39m\u001b[38;5;124mif it contains a single sample.\u001b[39m\u001b[38;5;124m\"\u001b[39m\u001b[38;5;241m.\u001b[39mformat(array)\n\u001b[0;32m    774\u001b[0m         )\n\u001b[0;32m    776\u001b[0m \u001b[38;5;66;03m# make sure we actually converted to numeric:\u001b[39;00m\n\u001b[0;32m    777\u001b[0m \u001b[38;5;28;01mif\u001b[39;00m dtype_numeric \u001b[38;5;129;01mand\u001b[39;00m array\u001b[38;5;241m.\u001b[39mdtype\u001b[38;5;241m.\u001b[39mkind \u001b[38;5;129;01min\u001b[39;00m \u001b[38;5;124m\"\u001b[39m\u001b[38;5;124mOUSV\u001b[39m\u001b[38;5;124m\"\u001b[39m:\n",
      "\u001b[1;31mValueError\u001b[0m: Expected 2D array, got 1D array instead:\narray=[2.37 2.59 2.66 2.68 2.74 2.78 2.81 2.83 2.84 2.86 2.87 2.87 2.88 2.88\n 2.89 2.9  2.91 2.91 2.93 2.94 2.99].\nReshape your data either using array.reshape(-1, 1) if your data has a single feature or array.reshape(1, -1) if it contains a single sample."
     ]
    }
   ],
   "source": [
    "reg =LinearRegression().fit(x,y)"
   ]
  },
  {
   "cell_type": "code",
   "execution_count": null,
   "id": "6334de3c-0ac5-4cfb-a43f-cf94a055a6a4",
   "metadata": {},
   "outputs": [],
   "source": []
  }
 ],
 "metadata": {
  "kernelspec": {
   "display_name": "Python 3 (ipykernel)",
   "language": "python",
   "name": "python3"
  },
  "language_info": {
   "codemirror_mode": {
    "name": "ipython",
    "version": 3
   },
   "file_extension": ".py",
   "mimetype": "text/x-python",
   "name": "python",
   "nbconvert_exporter": "python",
   "pygments_lexer": "ipython3",
   "version": "3.9.12"
  }
 },
 "nbformat": 4,
 "nbformat_minor": 5
}
